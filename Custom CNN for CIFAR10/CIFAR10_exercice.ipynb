{
  "nbformat": 4,
  "nbformat_minor": 0,
  "metadata": {
    "colab": {
      "provenance": []
    },
    "kernelspec": {
      "name": "python3",
      "display_name": "Python 3"
    },
    "language_info": {
      "name": "python"
    },
    "accelerator": "GPU",
    "gpuClass": "standard"
  },
  "cells": [
    {
      "cell_type": "markdown",
      "metadata": {
        "id": "vterQnIT1Wnx"
      },
      "source": [
        "# Make a custom dataset: CIFAR10\n",
        "<img src='https://production-media.paperswithcode.com/datasets/4fdf2b82-2bc3-4f97-ba51-400322b228b1.png'>\n",
        "\n",
        "\n",
        "\n",
        "The [CIFAR10](https://www.cs.toronto.edu/~kriz/cifar.html) dataset consists of 60000 32x32 colour images in 10 classes, with 6000 images per class. There are 50000 training images and 10000 test images.\n",
        "\n",
        "CIFAR10 dataset is provided ready-to-use by the `torchvision.datasets` package, but in this case we want create our custom CIFAR10Dataset class starting from the original images. "
      ]
    },
    {
      "cell_type": "code",
      "metadata": {
        "id": "uHU7E4fM6Jj4"
      },
      "source": [
        "import torch\n",
        "from torch.utils.data import Subset\n",
        "import torchvision.transforms as T\n",
        "import random\n",
        "import torch.nn as nn\n",
        "from torchsummary import summary\n",
        "import torch.optim as optim\n",
        "from torch.utils.data import Dataset, DataLoader\n",
        "from pathlib import Path\n",
        "from PIL import Image\n",
        "import matplotlib.pyplot as plt"
      ],
      "execution_count": 1,
      "outputs": []
    },
    {
      "cell_type": "code",
      "metadata": {
        "id": "aL3Z6nQY1b7n",
        "colab": {
          "base_uri": "https://localhost:8080/"
        },
        "outputId": "fa8bc90a-9df9-4629-ce47-bae2e679e59d"
      },
      "source": [
        "!wget -c https://github.com/YoongiKim/CIFAR-10-images/archive/master.tar.gz\n",
        "!tar -xzf master.tar.gz\n",
        "!rm master.tar.gz\n",
        "!rm ./CIFAR-10-images-master/README.md"
      ],
      "execution_count": 2,
      "outputs": [
        {
          "output_type": "stream",
          "name": "stdout",
          "text": [
            "--2023-03-30 17:53:29--  https://github.com/YoongiKim/CIFAR-10-images/archive/master.tar.gz\n",
            "Resolving github.com (github.com)... 140.82.113.3\n",
            "Connecting to github.com (github.com)|140.82.113.3|:443... connected.\n",
            "HTTP request sent, awaiting response... 302 Found\n",
            "Location: https://codeload.github.com/YoongiKim/CIFAR-10-images/tar.gz/refs/heads/master [following]\n",
            "--2023-03-30 17:53:29--  https://codeload.github.com/YoongiKim/CIFAR-10-images/tar.gz/refs/heads/master\n",
            "Resolving codeload.github.com (codeload.github.com)... 140.82.114.10\n",
            "Connecting to codeload.github.com (codeload.github.com)|140.82.114.10|:443... connected.\n",
            "HTTP request sent, awaiting response... 200 OK\n",
            "Length: unspecified [application/x-gzip]\n",
            "Saving to: ‘master.tar.gz’\n",
            "\n",
            "master.tar.gz           [       <=>          ]  18.74M  14.0MB/s    in 1.3s    \n",
            "\n",
            "2023-03-30 17:53:31 (14.0 MB/s) - ‘master.tar.gz’ saved [19652285]\n",
            "\n"
          ]
        }
      ]
    },
    {
      "cell_type": "code",
      "metadata": {
        "id": "k1APBo-Y5jFV",
        "colab": {
          "base_uri": "https://localhost:8080/"
        },
        "outputId": "afa618f8-2282-4b92-aaa9-02abf97e1722"
      },
      "source": [
        "import os\n",
        "dest_dir = \"./CIFAR-10-images-master\"\n",
        "os.listdir(dest_dir)"
      ],
      "execution_count": 3,
      "outputs": [
        {
          "output_type": "execute_result",
          "data": {
            "text/plain": [
              "['test', 'train']"
            ]
          },
          "metadata": {},
          "execution_count": 3
        }
      ]
    },
    {
      "cell_type": "code",
      "metadata": {
        "id": "NxWfkcPe6aTu"
      },
      "source": [
        "class MyCifar10Dataset(Dataset):\n",
        "  def __init__(self, dset_dir, train=True, transforms=T.Compose([])):\n",
        "    split = \"train\" if train else \"test\"\n",
        "    self.dset_dir = Path(dset_dir)/split\n",
        "    \n",
        "    self.transforms = transforms\n",
        "\n",
        "    self.files = []\n",
        "\n",
        "    folders = sorted(os.listdir(self.dset_dir))\n",
        "    for folder in folders:\n",
        "      class_idx = folders.index(folder)\n",
        "\n",
        "      folder_dir = self.dset_dir/folder\n",
        "\n",
        "      files = os.listdir(folder_dir)\n",
        "\n",
        "      self.files += [{\"file\": folder_dir/x, \"class\": class_idx} for x in files]\n",
        "\n",
        "  def __len__(self):\n",
        "    return len(self.files)\n",
        "\n",
        "  def __getitem__(self, i):\n",
        "    item = self.files[i]\n",
        "    file = item['file']\n",
        "    class_idx = torch.tensor(item['class'])\n",
        "\n",
        "    img = Image.open(file).convert(\"RGB\")\n",
        "    img = self.transforms(img)\n",
        "    return img, class_idx"
      ],
      "execution_count": 4,
      "outputs": []
    },
    {
      "cell_type": "code",
      "metadata": {
        "id": "kJ7mYJFa9qnr"
      },
      "source": [
        "transforms = T.Compose([\n",
        "        T.Resize(32),\n",
        "        T.ToTensor(),\n",
        "        T.Normalize((0.5, 0.5, 0.5), (0.5, 0.5, 0.5))\n",
        "    ])"
      ],
      "execution_count": 5,
      "outputs": []
    },
    {
      "cell_type": "code",
      "metadata": {
        "id": "4kkFEOnk7wrW",
        "colab": {
          "base_uri": "https://localhost:8080/"
        },
        "outputId": "2cf3b901-6a3e-4af2-f433-3d8a1cd8cd9e"
      },
      "source": [
        "train_dset = MyCifar10Dataset(dest_dir, train=True, transforms=transforms)\n",
        "test_dset = MyCifar10Dataset(dest_dir, train=False, transforms=transforms)\n",
        "\n",
        "num_train = len(train_dset)\n",
        "num_test = len(test_dset)\n",
        "\n",
        "print(f\"Num. training samples: {num_train}\")\n",
        "print(f\"Num. test samples:     {num_test}\")\n",
        "\n",
        "train_idx = list(range(num_train))\n",
        "test_idx = list(range(num_test))\n",
        "\n",
        "random.shuffle(train_idx)\n",
        "\n",
        "# Fraction of the original train set that we want to use as validation set\n",
        "val_frac = 0.2\n",
        "# Number of samples of the validation set\n",
        "num_val = int(num_train * val_frac) \n",
        "num_train = num_train - num_val\n",
        "\n",
        "print('new num_train: ', num_train)\n",
        "print('num_ val: ', num_val)\n",
        "\n",
        "\n",
        "# Split training set\n",
        "val_idx = train_idx[num_train:]\n",
        "train_idx = train_idx[:num_train]\n",
        "\n",
        "val_dset = Subset(train_dset, val_idx)\n",
        "train_dset = Subset(train_dset, train_idx)"
      ],
      "execution_count": 6,
      "outputs": [
        {
          "output_type": "stream",
          "name": "stdout",
          "text": [
            "Num. training samples: 50000\n",
            "Num. test samples:     10000\n",
            "new num_train:  40000\n",
            "num_ val:  10000\n"
          ]
        }
      ]
    },
    {
      "cell_type": "code",
      "metadata": {
        "id": "XltogfV6USeU"
      },
      "source": [
        "batch_s = 16\n",
        "\n",
        "train_loader = DataLoader(train_dset, batch_size=batch_s, shuffle=True, drop_last=True, num_workers=2)\n",
        "val_loader = DataLoader(val_dset, batch_size = batch_s, shuffle=False, drop_last=False, num_workers=2)\n",
        "test_loader = DataLoader(test_dset, batch_size=batch_s, shuffle=False, drop_last=False, num_workers=2)"
      ],
      "execution_count": 7,
      "outputs": []
    },
    {
      "cell_type": "code",
      "source": [
        "print(len(train_loader), len(val_loader), len(test_loader))"
      ],
      "metadata": {
        "colab": {
          "base_uri": "https://localhost:8080/"
        },
        "id": "9_eJtx482CWE",
        "outputId": "ad65dccb-16be-487c-884d-34f44599f5d7"
      },
      "execution_count": 8,
      "outputs": [
        {
          "output_type": "stream",
          "name": "stdout",
          "text": [
            "2500 625 625\n"
          ]
        }
      ]
    },
    {
      "cell_type": "code",
      "metadata": {
        "id": "2rh9cJskrJ_n",
        "colab": {
          "base_uri": "https://localhost:8080/"
        },
        "outputId": "cb4b9d2f-b3b4-4e9d-e1a2-6ff88f0e826d"
      },
      "source": [
        "inputs, labels = next(iter(train_loader))\n",
        "print(inputs.shape)\n",
        "print(labels.shape)"
      ],
      "execution_count": 9,
      "outputs": [
        {
          "output_type": "stream",
          "name": "stdout",
          "text": [
            "torch.Size([16, 3, 32, 32])\n",
            "torch.Size([16])\n"
          ]
        }
      ]
    },
    {
      "cell_type": "markdown",
      "metadata": {
        "id": "0kiyK056V2Ib"
      },
      "source": [
        "#TODO: Classification on CIFAR-10 with a CNN\n",
        "\n",
        "Define your *personal* Convolutional Neural Network and try to solve the CIFAR10 classification problem."
      ]
    },
    {
      "cell_type": "code",
      "source": [
        "def train(net, loaders, optimizer, criterion, epochs=100, dev=torch.device('cpu')):\n",
        "    try:\n",
        "        net = net.to(dev)\n",
        "        print(net)\n",
        "        # Initialize history\n",
        "        history_loss = {\"train\": [], \"val\": [], \"test\": []}\n",
        "        history_accuracy = {\"train\": [], \"val\": [], \"test\": []}\n",
        "        # Process each epoch\n",
        "        for epoch in range(epochs):\n",
        "            # Initialize epoch variables\n",
        "            sum_loss = {\"train\": 0, \"val\": 0, \"test\": 0}\n",
        "            sum_accuracy = {\"train\": 0, \"val\": 0, \"test\": 0}\n",
        "            # Process each split\n",
        "            for split in [\"train\", \"val\", \"test\"]:\n",
        "                if split == \"train\":\n",
        "                  net.train()\n",
        "                else:\n",
        "                  net.eval()\n",
        "                # Process each batch\n",
        "                for (input, labels) in loaders[split]:\n",
        "                    # Move to CUDA\n",
        "                    input = input.to(dev)\n",
        "                    labels = labels.to(dev)\n",
        "                    # Reset gradients\n",
        "                    optimizer.zero_grad()\n",
        "                    # Compute output\n",
        "                    outputs = net(input)\n",
        "                    loss = criterion(outputs, labels)\n",
        "                    # Update loss\n",
        "                    sum_loss[split] += loss.item()\n",
        "                    # Check parameter update\n",
        "                    if split == \"train\":\n",
        "                        # Compute gradients\n",
        "                        loss.backward()\n",
        "                        # Optimize\n",
        "                        optimizer.step()\n",
        "                    # Compute accuracy\n",
        "                    preds = torch.argmax(outputs, 1)\n",
        "                    batch_accuracy = (preds == labels).sum().item()/input.size(0)\n",
        "                    # Update accuracy\n",
        "                    sum_accuracy[split] += batch_accuracy\n",
        "            # Compute epoch loss/accuracy\n",
        "            epoch_loss = {split: sum_loss[split]/len(loaders[split]) for split in [\"train\", \"val\", \"test\"]}\n",
        "            epoch_accuracy = {split: sum_accuracy[split]/len(loaders[split]) for split in [\"train\", \"val\", \"test\"]}\n",
        "            # Update history\n",
        "            for split in [\"train\", \"val\", \"test\"]:\n",
        "                history_loss[split].append(epoch_loss[split])\n",
        "                history_accuracy[split].append(epoch_accuracy[split])\n",
        "            # Print info\n",
        "            print(f\"Epoch {epoch+1}:\",\n",
        "                  f\"TrL={epoch_loss['train']:.4f},\",\n",
        "                  f\"TrA={epoch_accuracy['train']:.4f},\",\n",
        "                  f\"VL={epoch_loss['val']:.4f},\",\n",
        "                  f\"VA={epoch_accuracy['val']:.4f},\",\n",
        "                  f\"TeL={epoch_loss['test']:.4f},\",\n",
        "                  f\"TeA={epoch_accuracy['test']:.4f},\")\n",
        "    except KeyboardInterrupt:\n",
        "        print(\"Interrupted\")\n",
        "    finally:\n",
        "        # Plot loss\n",
        "        plt.title(\"Loss\")\n",
        "        for split in [\"train\", \"val\", \"test\"]:\n",
        "            plt.plot(history_loss[split], label=split)\n",
        "        plt.legend()\n",
        "        plt.show()\n",
        "        # Plot accuracy\n",
        "        plt.title(\"Accuracy\")\n",
        "        for split in [\"train\", \"val\", \"test\"]:\n",
        "            plt.plot(history_accuracy[split], label=split)\n",
        "        plt.legend()\n",
        "        plt.show()"
      ],
      "metadata": {
        "id": "OU-1v_pkzrox"
      },
      "execution_count": 10,
      "outputs": []
    },
    {
      "cell_type": "code",
      "source": [
        "print('GPU available: ', torch.cuda.is_available())\n",
        "dev = torch.device('cuda')\n",
        "print(dev)"
      ],
      "metadata": {
        "id": "ZX0ySviTPM5Y",
        "outputId": "0f801ddf-d318-4fe2-e7ea-a0cda1126eee",
        "colab": {
          "base_uri": "https://localhost:8080/"
        }
      },
      "execution_count": 11,
      "outputs": [
        {
          "output_type": "stream",
          "name": "stdout",
          "text": [
            "GPU available:  True\n",
            "cuda\n"
          ]
        }
      ]
    },
    {
      "cell_type": "code",
      "source": [
        "class net(nn.Module):\n",
        "  def __init__(self):\n",
        "    super().__init__()\n",
        "    self.convs = nn.Sequential(\n",
        "        nn.Conv2d(3, 64, kernel_size=3, padding=1, stride=1),\n",
        "        nn.ReLU(),\n",
        "        nn.MaxPool2d(kernel_size=2, stride=2),\n",
        "        nn.Dropout(p=0.20),\n",
        "        nn.Conv2d(64, 128, kernel_size=3, padding=1, stride=1),\n",
        "        nn.ReLU(),\n",
        "        nn.Conv2d(128, 128, kernel_size=3, padding=1, stride=1),\n",
        "        nn.ReLU(),\n",
        "        nn.MaxPool2d(kernel_size=2, stride=2),\n",
        "        nn.Dropout(p=0.25),\n",
        "        nn.Conv2d(128, 256, kernel_size=3, padding=1, stride=1),\n",
        "        nn.ReLU(),\n",
        "        nn.MaxPool2d(kernel_size=2, stride=2)\n",
        "    )\n",
        "    self.linears = nn.Sequential(\n",
        "        nn.Linear(256 * 4 * 4, 512),\n",
        "        nn.BatchNorm1d(512),\n",
        "        nn.ReLU(),\n",
        "        nn.Dropout(p=0.5),\n",
        "        nn.Linear(512, 10)\n",
        "    )\n",
        "  def forward(self, x):\n",
        "    x = self.convs(x)\n",
        "    x = x.view(-1, 256 * 4 * 4)\n",
        "    x = self.linears(x)\n",
        "    #x = nn.Softmax(x)\n",
        "    return x"
      ],
      "metadata": {
        "id": "g1Ax4N1oesXx"
      },
      "execution_count": 12,
      "outputs": []
    },
    {
      "cell_type": "code",
      "source": [
        "model = net()\n",
        "print(model)"
      ],
      "metadata": {
        "colab": {
          "base_uri": "https://localhost:8080/"
        },
        "id": "HoLAkTAe6X3k",
        "outputId": "f99e303e-303c-4ecf-cf0a-25ce1b6d5ddb"
      },
      "execution_count": 13,
      "outputs": [
        {
          "output_type": "stream",
          "name": "stdout",
          "text": [
            "net(\n",
            "  (convs): Sequential(\n",
            "    (0): Conv2d(3, 64, kernel_size=(3, 3), stride=(1, 1), padding=(1, 1))\n",
            "    (1): ReLU()\n",
            "    (2): MaxPool2d(kernel_size=2, stride=2, padding=0, dilation=1, ceil_mode=False)\n",
            "    (3): Dropout(p=0.2, inplace=False)\n",
            "    (4): Conv2d(64, 128, kernel_size=(3, 3), stride=(1, 1), padding=(1, 1))\n",
            "    (5): ReLU()\n",
            "    (6): Conv2d(128, 128, kernel_size=(3, 3), stride=(1, 1), padding=(1, 1))\n",
            "    (7): ReLU()\n",
            "    (8): MaxPool2d(kernel_size=2, stride=2, padding=0, dilation=1, ceil_mode=False)\n",
            "    (9): Dropout(p=0.25, inplace=False)\n",
            "    (10): Conv2d(128, 256, kernel_size=(3, 3), stride=(1, 1), padding=(1, 1))\n",
            "    (11): ReLU()\n",
            "    (12): MaxPool2d(kernel_size=2, stride=2, padding=0, dilation=1, ceil_mode=False)\n",
            "  )\n",
            "  (linears): Sequential(\n",
            "    (0): Linear(in_features=4096, out_features=512, bias=True)\n",
            "    (1): BatchNorm1d(512, eps=1e-05, momentum=0.1, affine=True, track_running_stats=True)\n",
            "    (2): ReLU()\n",
            "    (3): Dropout(p=0.5, inplace=False)\n",
            "    (4): Linear(in_features=512, out_features=10, bias=True)\n",
            "  )\n",
            ")\n"
          ]
        }
      ]
    },
    {
      "cell_type": "code",
      "source": [
        "# hyper parameters\n",
        "epochs = 20\n",
        "initial_lr = 0.001\n",
        "w_decay = 0.00001\n",
        "\n",
        "loss_fn = nn.CrossEntropyLoss()\n",
        "optimizer = optim.Adam(model.parameters(), lr=initial_lr)"
      ],
      "metadata": {
        "id": "Va0lwrIZMgv-"
      },
      "execution_count": 14,
      "outputs": []
    },
    {
      "cell_type": "code",
      "source": [
        "# Define dictionary of loaders\n",
        "loaders = {\"train\": train_loader,\n",
        "           \"val\": val_loader,\n",
        "           \"test\": test_loader}"
      ],
      "metadata": {
        "id": "Gh9-AvrjzHp3"
      },
      "execution_count": 15,
      "outputs": []
    },
    {
      "cell_type": "code",
      "source": [
        "train(model, loaders, optimizer, loss_fn, epochs=epochs, dev=dev)"
      ],
      "metadata": {
        "colab": {
          "base_uri": "https://localhost:8080/",
          "height": 1000
        },
        "id": "rjdIdLQYzTEm",
        "outputId": "96f9dee3-e54a-42d3-eb0b-9be876995185"
      },
      "execution_count": 16,
      "outputs": [
        {
          "output_type": "stream",
          "name": "stdout",
          "text": [
            "net(\n",
            "  (convs): Sequential(\n",
            "    (0): Conv2d(3, 64, kernel_size=(3, 3), stride=(1, 1), padding=(1, 1))\n",
            "    (1): ReLU()\n",
            "    (2): MaxPool2d(kernel_size=2, stride=2, padding=0, dilation=1, ceil_mode=False)\n",
            "    (3): Dropout(p=0.2, inplace=False)\n",
            "    (4): Conv2d(64, 128, kernel_size=(3, 3), stride=(1, 1), padding=(1, 1))\n",
            "    (5): ReLU()\n",
            "    (6): Conv2d(128, 128, kernel_size=(3, 3), stride=(1, 1), padding=(1, 1))\n",
            "    (7): ReLU()\n",
            "    (8): MaxPool2d(kernel_size=2, stride=2, padding=0, dilation=1, ceil_mode=False)\n",
            "    (9): Dropout(p=0.25, inplace=False)\n",
            "    (10): Conv2d(128, 256, kernel_size=(3, 3), stride=(1, 1), padding=(1, 1))\n",
            "    (11): ReLU()\n",
            "    (12): MaxPool2d(kernel_size=2, stride=2, padding=0, dilation=1, ceil_mode=False)\n",
            "  )\n",
            "  (linears): Sequential(\n",
            "    (0): Linear(in_features=4096, out_features=512, bias=True)\n",
            "    (1): BatchNorm1d(512, eps=1e-05, momentum=0.1, affine=True, track_running_stats=True)\n",
            "    (2): ReLU()\n",
            "    (3): Dropout(p=0.5, inplace=False)\n",
            "    (4): Linear(in_features=512, out_features=10, bias=True)\n",
            "  )\n",
            ")\n",
            "Epoch 1: TrL=1.4740, TrA=0.4717, VL=1.1981, VA=0.5774, TeL=1.1902, TeA=0.5801,\n",
            "Epoch 2: TrL=1.0892, TrA=0.6163, VL=0.8565, VA=0.7005, TeL=0.8669, TeA=0.6978,\n",
            "Epoch 3: TrL=0.9240, TrA=0.6783, VL=0.7840, VA=0.7257, TeL=0.7947, TeA=0.7244,\n",
            "Epoch 4: TrL=0.8185, TrA=0.7145, VL=0.7474, VA=0.7400, TeL=0.7568, TeA=0.7390,\n",
            "Epoch 5: TrL=0.7316, TrA=0.7456, VL=0.6903, VA=0.7676, TeL=0.6892, TeA=0.7626,\n",
            "Epoch 6: TrL=0.6742, TrA=0.7673, VL=0.6726, VA=0.7700, TeL=0.6759, TeA=0.7694,\n",
            "Epoch 7: TrL=0.6116, TrA=0.7850, VL=0.6800, VA=0.7652, TeL=0.6884, TeA=0.7664,\n",
            "Epoch 8: TrL=0.5645, TrA=0.8063, VL=0.6644, VA=0.7795, TeL=0.6693, TeA=0.7743,\n",
            "Epoch 9: TrL=0.5193, TrA=0.8177, VL=0.6544, VA=0.7776, TeL=0.6673, TeA=0.7780,\n",
            "Epoch 10: TrL=0.4839, TrA=0.8320, VL=0.6419, VA=0.7905, TeL=0.6509, TeA=0.7874,\n",
            "Epoch 11: TrL=0.4451, TrA=0.8440, VL=0.6282, VA=0.7941, TeL=0.6382, TeA=0.7892,\n",
            "Epoch 12: TrL=0.4201, TrA=0.8526, VL=0.6755, VA=0.7828, TeL=0.6881, TeA=0.7822,\n",
            "Epoch 13: TrL=0.3902, TrA=0.8625, VL=0.6726, VA=0.7812, TeL=0.6829, TeA=0.7804,\n",
            "Epoch 14: TrL=0.3695, TrA=0.8714, VL=0.6488, VA=0.7950, TeL=0.6521, TeA=0.7902,\n",
            "Epoch 15: TrL=0.3452, TrA=0.8792, VL=0.6678, VA=0.7871, TeL=0.6694, TeA=0.7861,\n",
            "Epoch 16: TrL=0.3283, TrA=0.8863, VL=0.6604, VA=0.7892, TeL=0.6739, TeA=0.7918,\n",
            "Epoch 17: TrL=0.3097, TrA=0.8918, VL=0.6735, VA=0.7885, TeL=0.6868, TeA=0.7907,\n",
            "Epoch 18: TrL=0.3045, TrA=0.8941, VL=0.6809, VA=0.7888, TeL=0.6971, TeA=0.7887,\n",
            "Epoch 19: TrL=0.2753, TrA=0.9028, VL=0.6539, VA=0.7955, TeL=0.6652, TeA=0.8012,\n",
            "Epoch 20: TrL=0.2673, TrA=0.9059, VL=0.6819, VA=0.7941, TeL=0.6879, TeA=0.7946,\n"
          ]
        },
        {
          "output_type": "display_data",
          "data": {
            "text/plain": [
              "<Figure size 640x480 with 1 Axes>"
            ],
            "image/png": "[encoded data removed]"
          },
          "metadata": {}
        },
        {
          "output_type": "display_data",
          "data": {
            "text/plain": [
              "<Figure size 640x480 with 1 Axes>"
            ],
            "image/png": "[encoded data removed]"
          },
          "metadata": {}
        }
      ]
    }
  ]
}